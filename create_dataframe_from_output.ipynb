{
 "cells": [
  {
   "cell_type": "code",
   "execution_count": null,
   "metadata": {
    "scrolled": false
   },
   "outputs": [],
   "source": [
    "import pandas as pd\n",
    "import numpy as np\n",
    "\n",
    "# reads in the data\n",
    "df2 = pd.read_csv('/Users/eoinmurnaghan/Desktop/video_post_processing/log_data_cleaning/output.txt', delimiter=\"\\t\", header=None)\n",
    "\n",
    "df2['Box_Number'], df2['Coords'] = df2[0].str.split(' ', 1).str\n",
    "\n",
    "df2['Box_Number'] = df2[0].shift(-1)\n",
    "\n",
    "# tentatively drops the Coords column\n",
    "df2 = df2.drop('Coords', axis=1)\n",
    "\n",
    "# renames the column headers\n",
    "df2.columns = ['Test_Frame', 'Box_Number']\n",
    "\n",
    "# splits the Box_Number column by single spacing\n",
    "df2['Box_Number'], df2['Coords'] = df2['Box_Number'].str.split(' ', 1).str\n",
    "\n",
    "# creates 4 new columns by splitting the Coords column by the comma\n",
    "df2[['ymin','xmin', 'ymax', 'xmax']] = df2['Coords'].str.rsplit(',', expand=True)\n",
    "\n",
    "df2.head()"
   ]
  },
  {
   "cell_type": "code",
   "execution_count": null,
   "metadata": {
    "scrolled": false
   },
   "outputs": [],
   "source": [
    "#add in functionality to remove box data from frame columns\n",
    "magic = df2[ df2.Test_Frame.str.contains(\",\") & (df2['Box_Number'].notnull()) & df2['Coords'].isnull()].index\n",
    "df2.drop(magic , inplace=True)\n",
    "\n",
    "df2.head()"
   ]
  },
  {
   "cell_type": "code",
   "execution_count": null,
   "metadata": {
    "scrolled": false
   },
   "outputs": [],
   "source": [
    "#remove array seperator from ymin column\n",
    "df2['ymin'] = df2['ymin'].astype(str).str.replace(r\"[\", '')\n",
    "\n",
    "# remove array seperator from xmax column\n",
    "df2['xmax'] = df2['xmax'].astype(str).str.replace(r\"]\", '')\n",
    "\n",
    "# firmly drops the Coords column\n",
    "df2 = df2.drop('Coords', axis=1)\n",
    "\n",
    "# irons out the nan issue\n",
    "df2.loc[df2.ymin == 'nan', 'ymin'] = np.nan\n",
    "df2.loc[df2.xmax == 'nan', 'xmax'] = np.nan\n",
    "\n",
    "# if the ymin value is NaN, change the Box_Number to NaN\n",
    "df2.loc[df2.ymin == 'NaN', 'Box_Number'] = np.nan\n",
    "\n",
    "df2.head()"
   ]
  },
  {
   "cell_type": "code",
   "execution_count": null,
   "metadata": {},
   "outputs": [],
   "source": [
    "df2.dtypes"
   ]
  },
  {
   "cell_type": "code",
   "execution_count": null,
   "metadata": {
    "scrolled": false
   },
   "outputs": [],
   "source": [
    "#add in new columns where boolean outlines if box data lies in frame column\n",
    "df2['helper'] = np.where(df2['Test_Frame'].str.contains(\",\"), 'true', 'false')\n",
    "\n",
    "# will be our final Frame column\n",
    "df2['Frame'] = df2['Test_Frame']\n",
    "\n",
    "#restart indexing\n",
    "df2 = df2.reset_index(drop=True)\n",
    "\n",
    "df2.head()"
   ]
  },
  {
   "cell_type": "code",
   "execution_count": null,
   "metadata": {},
   "outputs": [],
   "source": [
    "df2.dtypes"
   ]
  },
  {
   "cell_type": "code",
   "execution_count": null,
   "metadata": {},
   "outputs": [],
   "source": [
    "# for loop which stops frame number increasing when boolean is false\n",
    "for i in range(1,len(df2)):\n",
    "     if df2.helper[i] == 'true':\n",
    "#             and df.Frame[i-1] == 381\n",
    "             df2.Frame[i] = df2.Frame[i-1]\n",
    "#              df.Frame[i] = df.Test_Frame[i]\n",
    "             \n",
    "     else:\n",
    "        df2.Frame[i] = df2.Frame[i]"
   ]
  },
  {
   "cell_type": "code",
   "execution_count": null,
   "metadata": {
    "scrolled": false
   },
   "outputs": [],
   "source": [
    "# retains the columns we want\n",
    "df2 = df2[['Frame', 'Box_Number', 'ymin', 'xmin', 'ymax', 'xmax']]\n",
    "\n",
    "df2.head(342)"
   ]
  },
  {
   "cell_type": "code",
   "execution_count": null,
   "metadata": {},
   "outputs": [],
   "source": [
    "df2['Frame'] = pd.to_numeric(df2['Frame'])\n",
    "\n",
    "df2['Box_Number'] = pd.to_numeric(df2['Box_Number'])\n",
    "df2['ymin'] = pd.to_numeric(df2['ymin'])\n",
    "df2['xmin'] = pd.to_numeric(df2['xmin'])\n",
    "df2['ymax'] = pd.to_numeric(df2['ymax'])\n",
    "df2['xmax'] = pd.to_numeric(df2['xmax'])\n",
    "\n",
    "df2.dtypes"
   ]
  },
  {
   "cell_type": "code",
   "execution_count": null,
   "metadata": {
    "scrolled": true
   },
   "outputs": [],
   "source": [
    "df3 = df2.set_index(['Frame', df2.groupby('Frame').cumcount()])[['ymin',\n",
    "                                                               'xmin',\n",
    "                                                               'ymax',\n",
    "                                                               'xmax']].unstack().reset_index().rename_axis(None)\n",
    "\n",
    "\n",
    "\n",
    "# drops the multilevel index\n",
    "df3.columns = df3.columns.droplevel()\n",
    "\n",
    "df3.head(343)\n",
    "\n"
   ]
  },
  {
   "cell_type": "code",
   "execution_count": null,
   "metadata": {},
   "outputs": [],
   "source": [
    "df3.rename(columns={'xmin':'ymin1','xmin':'ymin2','ymax':'ymin3', 'xmax':'ymin4'}, inplace=True)\n",
    "df3"
   ]
  },
  {
   "cell_type": "code",
   "execution_count": null,
   "metadata": {},
   "outputs": [],
   "source": [
    "# outputs the data as csv\n",
    "df3.to_csv('output_acceleration_new.csv', index=False)"
   ]
  },
  {
   "cell_type": "code",
   "execution_count": null,
   "metadata": {
    "scrolled": true
   },
   "outputs": [],
   "source": [
    "# box_data['Frame'].value_counts()\n",
    "df2['freq'] = df2.groupby('Frame')['Frame'].transform('count')\n",
    "\n",
    "df2.loc[df2['freq'] == 3]"
   ]
  }
 ],
 "metadata": {
  "kernelspec": {
   "display_name": "Python 3",
   "language": "python",
   "name": "python3"
  },
  "language_info": {
   "codemirror_mode": {
    "name": "ipython",
    "version": 3
   },
   "file_extension": ".py",
   "mimetype": "text/x-python",
   "name": "python",
   "nbconvert_exporter": "python",
   "pygments_lexer": "ipython3",
   "version": "3.7.3"
  }
 },
 "nbformat": 4,
 "nbformat_minor": 2
}
