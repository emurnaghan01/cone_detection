{
 "cells": [
  {
   "cell_type": "code",
   "execution_count": 2,
   "metadata": {},
   "outputs": [],
   "source": [
    "import tensorflow as tf\n",
    "\n",
    "from tensorflow.keras.preprocessing.image import ImageDataGenerator\n",
    "from tensorflow.keras.models import Sequential\n",
    "from tensorflow.keras.layers import Dense, Dropout, Activation, Flatten\n",
    "from tensorflow.keras.layers import Conv2D, MaxPooling2D\n",
    "\n",
    "import pickle"
   ]
  },
  {
   "cell_type": "code",
   "execution_count": 3,
   "metadata": {},
   "outputs": [],
   "source": [
    "pickle_in = open(\"X.pickle\", \"rb\")\n",
    "X = pickle.load(pickle_in)\n",
    "\n",
    "pickle_in = open(\"y.pickle\", \"rb\")\n",
    "y = pickle.load(pickle_in)"
   ]
  },
  {
   "cell_type": "code",
   "execution_count": 4,
   "metadata": {},
   "outputs": [],
   "source": [
    "X = X/255.0"
   ]
  },
  {
   "cell_type": "code",
   "execution_count": 12,
   "metadata": {},
   "outputs": [
    {
     "name": "stdout",
     "output_type": "stream",
     "text": [
      "Train on 694 samples, validate on 78 samples\n",
      "Epoch 1/10\n",
      "694/694 [==============================] - 6s 8ms/step - loss: 0.4264 - acc: 0.7781 - val_loss: 0.2946 - val_acc: 0.9231\n",
      "Epoch 2/10\n",
      "694/694 [==============================] - 5s 7ms/step - loss: 0.2626 - acc: 0.8977 - val_loss: 0.2414 - val_acc: 0.9231\n",
      "Epoch 3/10\n",
      "694/694 [==============================] - 5s 8ms/step - loss: 0.2102 - acc: 0.9222 - val_loss: 0.2635 - val_acc: 0.9359\n",
      "Epoch 4/10\n",
      "694/694 [==============================] - 5s 7ms/step - loss: 0.1990 - acc: 0.9236 - val_loss: 0.3197 - val_acc: 0.8974\n",
      "Epoch 5/10\n",
      "694/694 [==============================] - 5s 7ms/step - loss: 0.1403 - acc: 0.9524 - val_loss: 0.2763 - val_acc: 0.9359\n",
      "Epoch 6/10\n",
      "694/694 [==============================] - 5s 7ms/step - loss: 0.1034 - acc: 0.9553 - val_loss: 0.2902 - val_acc: 0.9103\n",
      "Epoch 7/10\n",
      "694/694 [==============================] - 5s 8ms/step - loss: 0.0610 - acc: 0.9784 - val_loss: 0.3552 - val_acc: 0.8974\n",
      "Epoch 8/10\n",
      "694/694 [==============================] - 5s 7ms/step - loss: 0.0410 - acc: 0.9856 - val_loss: 0.2839 - val_acc: 0.9231\n",
      "Epoch 9/10\n",
      "694/694 [==============================] - 5s 7ms/step - loss: 0.0531 - acc: 0.9784 - val_loss: 0.2546 - val_acc: 0.9615\n",
      "Epoch 10/10\n",
      "694/694 [==============================] - 6s 8ms/step - loss: 0.0645 - acc: 0.9784 - val_loss: 0.3162 - val_acc: 0.9615\n"
     ]
    },
    {
     "data": {
      "text/plain": [
       "<tensorflow.python.keras.callbacks.History at 0x129de3710>"
      ]
     },
     "execution_count": 12,
     "metadata": {},
     "output_type": "execute_result"
    }
   ],
   "source": [
    "model = Sequential()\n",
    "\n",
    "model.add(Conv2D(64, (3,3), input_shape = X.shape[1:]))\n",
    "model.add(Activation('relu'))\n",
    "model.add(MaxPooling2D(pool_size=(2, 2)))\n",
    "\n",
    "model.add(Conv2D(64, (3,3)))\n",
    "model.add(Activation('relu'))\n",
    "model.add(MaxPooling2D(pool_size=(2, 2)))\n",
    "\n",
    "model.add(Flatten())\n",
    "\n",
    "model.add(Dense(64))\n",
    "model.add(Activation('relu'))\n",
    "\n",
    "model.add(Dense(1))\n",
    "model.add(Activation(\"sigmoid\"))\n",
    "\n",
    "model.compile(loss = \"binary_crossentropy\",\n",
    "             optimizer = 'adam',\n",
    "             metrics = ['accuracy'])\n",
    "\n",
    "model.fit(X, y, batch_size=1, epochs = 10, validation_split = 0.1)"
   ]
  }
 ],
 "metadata": {
  "kernelspec": {
   "display_name": "Python 3",
   "language": "python",
   "name": "python3"
  },
  "language_info": {
   "codemirror_mode": {
    "name": "ipython",
    "version": 3
   },
   "file_extension": ".py",
   "mimetype": "text/x-python",
   "name": "python",
   "nbconvert_exporter": "python",
   "pygments_lexer": "ipython3",
   "version": "3.7.3"
  }
 },
 "nbformat": 4,
 "nbformat_minor": 2
}
